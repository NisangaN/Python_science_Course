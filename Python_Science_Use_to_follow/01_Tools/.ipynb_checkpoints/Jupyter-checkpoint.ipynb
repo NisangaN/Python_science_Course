{
 "cells": [
  {
   "cell_type": "markdown",
   "metadata": {},
   "source": [
    "# Jupyter\n",
    "\n",
    "- Web based Application\n",
    "- Notebook documents with Code, Text, Images\n",
    "\n",
    "Jupyter is actually running on your own computer. localhost:8888\n",
    "\n",
    "Notebook name | Menu Bar | Toolbar | Code cells | markdown cells\n",
    "\n",
    "Included Libraries and Packages - See Help"
   ]
  },
  {
   "cell_type": "markdown",
   "metadata": {},
   "source": [
    "## 1. Run Code\n",
    "\n",
    "- Run code directly in the Web App\n",
    "- Automatic code Higlighting"
   ]
  },
  {
   "cell_type": "code",
   "execution_count": null,
   "metadata": {},
   "outputs": [],
   "source": []
  },
  {
   "cell_type": "markdown",
   "metadata": {},
   "source": [
    "## 2. Export\n",
    "\n",
    "The Jupyter Notebook can be exported in different formats:\n",
    "File - Download as\n",
    "- Python code!\n",
    "- HTML (Include to a web site) \n",
    "- PDF\n",
    "- LateX\n",
    "- Highquality figures: PNG, SVG\n"
   ]
  },
  {
   "cell_type": "markdown",
   "metadata": {},
   "source": [
    "## 3. Filetree-Navigator\n",
    "- Text editor\n",
    "- Create folders\n",
    "- Console"
   ]
  },
  {
   "cell_type": "code",
   "execution_count": null,
   "metadata": {},
   "outputs": [],
   "source": []
  },
  {
   "cell_type": "markdown",
   "metadata": {},
   "source": [
    "## 4. Markdown\n",
    "\n",
    "Between your code you can switch cells to Markdown! There you have a wide range for manipulating your Text! \n",
    "- Perfect to create Documents that include code and Text (Tutorials, Scientific Thesis)\n",
    "\n",
    "Further Information: https://daringfireball.net/projects/markdown/syntax"
   ]
  }
 ],
 "metadata": {
  "kernelspec": {
   "display_name": "Python 3",
   "language": "python",
   "name": "python3"
  },
  "language_info": {
   "codemirror_mode": {
    "name": "ipython",
    "version": 3
   },
   "file_extension": ".py",
   "mimetype": "text/x-python",
   "name": "python",
   "nbconvert_exporter": "python",
   "pygments_lexer": "ipython3",
   "version": "3.7.6"
  }
 },
 "nbformat": 4,
 "nbformat_minor": 4
}
