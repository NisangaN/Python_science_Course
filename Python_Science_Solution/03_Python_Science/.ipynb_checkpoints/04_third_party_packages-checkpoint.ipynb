{
 "cells": [
  {
   "cell_type": "markdown",
   "metadata": {},
   "source": [
    "# Third Party packages Matplotlib\n",
    "\n",
    "- Matplotlib Doc\n",
    "\n",
    "- Plotly\n",
    "- Bokeh\n",
    "- Seaborn\n",
    "\n",
    "## Seaborn\n",
    "- Library for visualize statistical Data built on top of Matplotlib.\n",
    "- Closely integrated with pandas Data structures\n",
    "\n",
    "Often importing Seaborn alone is sufficient but sometimes you need Matplotlib for further customization."
   ]
  },
  {
   "cell_type": "code",
   "execution_count": 1,
   "metadata": {},
   "outputs": [],
   "source": []
  },
  {
   "cell_type": "code",
   "execution_count": 2,
   "metadata": {},
   "outputs": [],
   "source": []
  },
  {
   "cell_type": "code",
   "execution_count": null,
   "metadata": {},
   "outputs": [],
   "source": []
  },
  {
   "cell_type": "markdown",
   "metadata": {},
   "source": [
    "# Plotly \n",
    "\n",
    "- Interactive web-based visualizations\n",
    "- publication quality graphs\n",
    "- Install plotly for anaconda! $ conda install -c plotly plotly=4.7.1\n"
   ]
  },
  {
   "cell_type": "code",
   "execution_count": null,
   "metadata": {},
   "outputs": [],
   "source": []
  },
  {
   "cell_type": "code",
   "execution_count": null,
   "metadata": {},
   "outputs": [],
   "source": []
  },
  {
   "cell_type": "code",
   "execution_count": 1,
   "metadata": {},
   "outputs": [],
   "source": [
    "#From https://plotly.com/python/line-charts/\n"
   ]
  },
  {
   "cell_type": "markdown",
   "metadata": {},
   "source": [
    "## Apps\n",
    "https://plotly.com/python/figurewidget-app/"
   ]
  },
  {
   "cell_type": "markdown",
   "metadata": {},
   "source": [
    "You can also create HTML Dashboards with Dash"
   ]
  },
  {
   "cell_type": "markdown",
   "metadata": {},
   "source": [
    "# Bokeh\n",
    "\n",
    "Another Package to create nice looking plots is Bokeh\n",
    "https://docs.bokeh.org/en/latest/index.html\n",
    "\n",
    "Works similiar to Plotly\n",
    "Bokeh can help make interactive plots, dashboards, and data applications.\n"
   ]
  },
  {
   "cell_type": "markdown",
   "metadata": {},
   "source": [
    "# Creating HTML Dashboards - Voila\n",
    "\n",
    "\n",
    "Others:\n",
    "    - Dash\n",
    "    - Panel\n",
    "    - Streamlit"
   ]
  },
  {
   "cell_type": "markdown",
   "metadata": {},
   "source": [
    "conda install -c conda-forge voila\n",
    "voila"
   ]
  },
  {
   "cell_type": "markdown",
   "metadata": {},
   "source": [
    "git clone https://github.com/voila-dashboards/voila.git\n",
    "- Open Dashboard"
   ]
  },
  {
   "cell_type": "markdown",
   "metadata": {},
   "source": [
    "# Next Step with anaconda\n",
    "\n",
    "Overview of important other Packages\n",
    "https://www.anaconda.com/open-source\n",
    "\n",
    "Lots of example Porjects\n",
    "https://anaconda.org/gallery"
   ]
  }
 ],
 "metadata": {
  "kernelspec": {
   "display_name": "Python 3",
   "language": "python",
   "name": "python3"
  },
  "language_info": {
   "codemirror_mode": {
    "name": "ipython",
    "version": 3
   },
   "file_extension": ".py",
   "mimetype": "text/x-python",
   "name": "python",
   "nbconvert_exporter": "python",
   "pygments_lexer": "ipython3",
   "version": "3.7.6"
  }
 },
 "nbformat": 4,
 "nbformat_minor": 4
}
